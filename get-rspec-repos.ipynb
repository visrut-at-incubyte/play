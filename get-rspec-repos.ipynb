{
 "cells": [
  {
   "cell_type": "code",
   "execution_count": 15,
   "metadata": {},
   "outputs": [
    {
     "name": "stdout",
     "output_type": "stream",
     "text": [
      "CSV file 'repos_with_rspec.csv' has been created.\n"
     ]
    }
   ],
   "source": [
    "import requests\n",
    "import json\n",
    "import csv\n",
    "\n",
    "# Load the repositories from the JSON file\n",
    "with open('./github_repos.json', 'r') as file:\n",
    "    repositories = json.load(file)\n",
    "\n",
    "def check_gemfile_for_rspec(repo_url):\n",
    "    branches = [\"master\", \"main\"]\n",
    "    for branch in branches:\n",
    "        raw_url = f\"https://raw.githubusercontent.com/{repo_url.replace('https://github.com/', '')}/{branch}/Gemfile\"\n",
    "        try:\n",
    "            response = requests.get(raw_url)\n",
    "            if response.status_code == 200:\n",
    "                if 'rspec' in response.text:\n",
    "                    return True\n",
    "            elif response.status_code == 404:\n",
    "                continue  # Try the next branch\n",
    "            else:\n",
    "                break  # For other errors, stop trying\n",
    "        except requests.RequestException as e:\n",
    "            print(f\"Error fetching {raw_url}: {e}\")\n",
    "            break\n",
    "    return False\n",
    "\n",
    "repos_with_rspec = []\n",
    "\n",
    "for repo in repositories:\n",
    "    if check_gemfile_for_rspec(repo['url']):\n",
    "        repos_with_rspec.append(repo)\n",
    "\n",
    "# Write the results to a CSV file\n",
    "with open('repos_with_rspec.csv', 'w', newline='') as csvfile:\n",
    "    fieldnames = ['name', 'url']\n",
    "    writer = csv.DictWriter(csvfile, fieldnames=fieldnames)\n",
    "\n",
    "    writer.writeheader()\n",
    "    for repo in repos_with_rspec:\n",
    "        writer.writerow({'name': repo['name'], 'url': repo['url']})\n",
    "\n",
    "print(\"CSV file 'repos_with_rspec.csv' has been created.\")\n"
   ]
  }
 ],
 "metadata": {
  "kernelspec": {
   "display_name": "venv",
   "language": "python",
   "name": "python3"
  },
  "language_info": {
   "codemirror_mode": {
    "name": "ipython",
    "version": 3
   },
   "file_extension": ".py",
   "mimetype": "text/x-python",
   "name": "python",
   "nbconvert_exporter": "python",
   "pygments_lexer": "ipython3",
   "version": "3.10.12"
  }
 },
 "nbformat": 4,
 "nbformat_minor": 2
}
